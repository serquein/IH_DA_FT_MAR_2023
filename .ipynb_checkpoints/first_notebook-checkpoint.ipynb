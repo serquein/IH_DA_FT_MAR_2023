{
 "cells": [
  {
   "cell_type": "code",
   "execution_count": null,
   "id": "c6fc2468",
   "metadata": {},
   "outputs": [],
   "source": [
    " Hello everyone!"
   ]
  },
  {
   "cell_type": "markdown",
   "id": "15cfe19a",
   "metadata": {},
   "source": [
    "Hello everyone!\n"
   ]
  },
  {
   "cell_type": "code",
   "execution_count": 4,
   "id": "e12902de",
   "metadata": {},
   "outputs": [
    {
     "name": "stdout",
     "output_type": "stream",
     "text": [
      "Please enter your favourite food:ys\n"
     ]
    }
   ],
   "source": [
    "# this is my first user function\n",
    "user_input = input(\"Please enter your favourite food:\")"
   ]
  },
  {
   "cell_type": "code",
   "execution_count": 3,
   "id": "f7daed89",
   "metadata": {},
   "outputs": [],
   "source": [
    "# rorog"
   ]
  },
  {
   "cell_type": "code",
   "execution_count": null,
   "id": "5e5d847d",
   "metadata": {},
   "outputs": [],
   "source": []
  }
 ],
 "metadata": {
  "kernelspec": {
   "display_name": "Python 3 (ipykernel)",
   "language": "python",
   "name": "python3"
  },
  "language_info": {
   "codemirror_mode": {
    "name": "ipython",
    "version": 3
   },
   "file_extension": ".py",
   "mimetype": "text/x-python",
   "name": "python",
   "nbconvert_exporter": "python",
   "pygments_lexer": "ipython3",
   "version": "3.9.7"
  }
 },
 "nbformat": 4,
 "nbformat_minor": 5
}
